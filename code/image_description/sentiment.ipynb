{
 "cells": [
  {
   "cell_type": "code",
   "execution_count": null,
   "id": "G4jPfvFtEqGl",
   "metadata": {
    "id": "G4jPfvFtEqGl"
   },
   "outputs": [],
   "source": [
    "import nltk\n",
    "from nltk.sentiment.vader import SentimentIntensityAnalyzer\n",
    "import pandas as pd\n",
    "import numpy as np\n",
    "import matplotlib.pyplot as plt\n",
    "import pandas as pd\n",
    "import nltk\n",
    "from nltk.tokenize import word_tokenize\n",
    "nltk.download('punkt')\n",
    "\n",
    "# initialize the sentiment analyzer \n",
    "analyzer = SentimentIntensityAnalyzer()"
   ]
  },
  {
   "cell_type": "code",
   "execution_count": null,
   "id": "lMwkhfQLEsuN",
   "metadata": {
    "id": "lMwkhfQLEsuN"
   },
   "outputs": [],
   "source": [
    "race_gender_groups=[\"white\",\"black\",\"asian\",\"latino\",\"ME\",\"male\",\"female\"]\n",
    "models=[\"Midjourney\",\"LLaVA\",\"llama\",\"4o\",\"4v\",\"Gemini\"]"
   ]
  },
  {
   "cell_type": "code",
   "execution_count": null,
   "id": "f5bB4ttHEtUO",
   "metadata": {
    "id": "f5bB4ttHEtUO",
    "scrolled": true
   },
   "outputs": [],
   "source": [
    "for model in models:\n",
    "    print(\"---\"+model+\"---\")\n",
    "    df=pd.read_csv(f'../../result/image_description/{model}/all_data.csv')\n",
    "    for i,group in enumerate(race_gender_groups):\n",
    "        if i<=4:\n",
    "            df_group=df[df.iloc[:, 1] == group]['text']\n",
    "        else:\n",
    "            df_group=df[df.iloc[:, 2] == group]['text']\n",
    "\n",
    "        personas = ' '.join(list(df_group))\n",
    "        scores = analyzer.polarity_scores(personas)\n",
    "        formatted_scores = {key: round(value, 6) for key, value in scores.items()}\n",
    "\n",
    "        print(group)\n",
    "        print(formatted_scores)\n",
    "        scores = [analyzer.polarity_scores(k)['compound'] for k in df_group]\n",
    "        print(np.mean(scores))\n",
    "        print(np.std(scores))"
   ]
  },
  {
   "cell_type": "code",
   "execution_count": null,
   "id": "af4ef265",
   "metadata": {},
   "outputs": [],
   "source": []
  }
 ],
 "metadata": {
  "colab": {
   "provenance": []
  },
  "kernelspec": {
   "display_name": "Python 3 (ipykernel)",
   "language": "python",
   "name": "python3"
  },
  "language_info": {
   "codemirror_mode": {
    "name": "ipython",
    "version": 3
   },
   "file_extension": ".py",
   "mimetype": "text/x-python",
   "name": "python",
   "nbconvert_exporter": "python",
   "pygments_lexer": "ipython3",
   "version": "3.11.4"
  }
 },
 "nbformat": 4,
 "nbformat_minor": 5
}
