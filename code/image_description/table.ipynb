{
 "cells": [
  {
   "cell_type": "code",
   "execution_count": null,
   "id": "HVHnH7nCIw8P",
   "metadata": {
    "id": "HVHnH7nCIw8P"
   },
   "outputs": [],
   "source": [
    "from marked_words import marked_words\n",
    "import pandas as pd\n",
    "from collections import Counter\n",
    "\n",
    "def pprint(dic):\n",
    "    full_list = []\n",
    "    for word in sorted(dic,key=lambda x: x[1],reverse=True):\n",
    "        #print(\"%s, %.2f\" % (word[0],word[1]))\n",
    "        full_list.append(word[0])\n",
    "    return full_list\n"
   ]
  },
  {
   "cell_type": "code",
   "execution_count": null,
   "id": "XbgT5rcnIxys",
   "metadata": {
    "id": "XbgT5rcnIxys"
   },
   "outputs": [],
   "source": [
    "models=[\"4o\",\"4v\",\"Gemini\",\"LLaVA\",\"llama\",\"Midjourney\"]"
   ]
  },
  {
   "cell_type": "code",
   "execution_count": null,
   "id": "tzw3h_2aI3Nl",
   "metadata": {
    "id": "tzw3h_2aI3Nl"
   },
   "outputs": [],
   "source": [
    "count_race_lst = {}\n",
    "count_gender_lst = {}\n",
    "all_mw={}\n",
    "for model in models:\n",
    "    df = pd.read_csv(f'../../result/image_description/{model}/all_data.csv')\n",
    "    df[\"text\"]=df['text'].apply(lambda x: x.rstrip(\":1234567890 \"))\n",
    "\n",
    "    mw = {}\n",
    "    for race in df['race'].unique():\n",
    "        outs = pprint(marked_words(df, [race], ['race'],['white']))\n",
    "        mw[race] = outs\n",
    "    temps = []\n",
    "    for race in df['race'].unique():\n",
    "        temp = pprint(marked_words(df, ['white'], ['race'],[race]))\n",
    "        temps.extend(temp)\n",
    "    seen = Counter(temps).most_common()\n",
    "\n",
    "    temp=[w for w, c in seen if c == 2]\n",
    "    mw['white']=temp[:10]\n",
    "\n",
    "\n",
    "    for race in df['gender'].unique():\n",
    "        outs = pprint(marked_words(df, [race], ['gender'],['male']))\n",
    "        mw[race] = outs\n",
    "    temps = []\n",
    "    for race in df['gender'].unique():\n",
    "        temp = pprint(marked_words(df, ['male'], ['gender'],[race]))\n",
    "        temps.extend(temp)\n",
    "\n",
    "    seen = Counter(temps).most_common()\n",
    "    mw['male']=[w for w, c in seen if c == 1]\n",
    "\n",
    "    all_mw[model]=mw\n",
    "    for k,v in mw.items():\n",
    "        print(k,v)\n",
    "        print()\n",
    "        if k in df['race'].unique():\n",
    "            for word in v[:10]:\n",
    "                count_race_lst[word] = count_race_lst.get(word, 0) + 1\n",
    "        else:\n",
    "            print(k)\n",
    "            for word in v[:10]:\n",
    "                count_gender_lst[word] = count_gender_lst.get(word, 0) + 1\n",
    "\n",
    "\n",
    "for model, mw in all_mw.items():\n",
    "    print(model + \": \")\n",
    "    for k, v in mw.items():\n",
    "        print(k + \": \")\n",
    "        if k in df['race'].unique():\n",
    "            count_dict = count_race_lst\n",
    "        else:\n",
    "            count_dict = count_gender_lst\n",
    "\n",
    "        for word in v[:10]:\n",
    "            if count_dict[word] == 6:\n",
    "                print(\"\\colorbox{myred!100}{\" + word + \"}\", end=\", \")\n",
    "            elif count_dict[word] == 5:\n",
    "                print(\"\\colorbox{myred!60}{\" + word + \"}\", end=\", \")\n",
    "            elif count_dict[word] == 4:\n",
    "                print(\"\\colorbox{myred!20}{\" + word + \"}\", end=\", \")\n",
    "            else:\n",
    "                print(word, end=\", \")"
   ]
  }
 ],
 "metadata": {
  "colab": {
   "provenance": []
  },
  "kernelspec": {
   "display_name": "Python 3 (ipykernel)",
   "language": "python",
   "name": "python3"
  },
  "language_info": {
   "codemirror_mode": {
    "name": "ipython",
    "version": 3
   },
   "file_extension": ".py",
   "mimetype": "text/x-python",
   "name": "python",
   "nbconvert_exporter": "python",
   "pygments_lexer": "ipython3",
   "version": "3.11.4"
  }
 },
 "nbformat": 4,
 "nbformat_minor": 5
}
